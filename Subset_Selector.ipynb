{
  "nbformat": 4,
  "nbformat_minor": 0,
  "metadata": {
    "colab": {
      "provenance": []
    },
    "kernelspec": {
      "name": "python3",
      "display_name": "Python 3"
    },
    "language_info": {
      "name": "python"
    }
  },
  "cells": [
    {
      "cell_type": "code",
      "execution_count": 1,
      "metadata": {
        "id": "OpWMpWDQ5-rF"
      },
      "outputs": [],
      "source": [
        "import random as r"
      ]
    },
    {
      "cell_type": "code",
      "source": [
        "Set         = set([-12, -3, -6, 7, 2, -2, 6, 3, 9, -7, -5, -8, 1, 11, -9, -4])\n",
        "SetSize     = 5\n",
        "ResultList  = set()    # Store Result List i.e. list of sets whose sum is zero\n",
        "Iterations  = 1000    # Number of Inerations"
      ],
      "metadata": {
        "id": "G-bvXHiT6CRR"
      },
      "execution_count": 2,
      "outputs": []
    },
    {
      "cell_type": "code",
      "source": [
        "# Loop till number of Iterations\n",
        "for i in range(Iterations):\n",
        "    # Select number of elements from Set\n",
        "    Chromosome = r.sample(Set,SetSize)\n",
        "    \n",
        "    # Sum the number of elements in the Chromosome\n",
        "    if sum(Chromosome) == 0:\n",
        "        ResultList.add(tuple(Chromosome))"
      ],
      "metadata": {
        "colab": {
          "base_uri": "https://localhost:8080/"
        },
        "id": "2EYAWtqU6JOE",
        "outputId": "78076911-c71f-4d82-9e8b-e8da7fe8f97a"
      },
      "execution_count": 3,
      "outputs": [
        {
          "output_type": "stream",
          "name": "stderr",
          "text": [
            "<ipython-input-3-03544d6be9f3>:4: DeprecationWarning: Sampling from a set deprecated\n",
            "since Python 3.9 and will be removed in a subsequent version.\n",
            "  Chromosome = r.sample(Set,SetSize)\n"
          ]
        }
      ]
    },
    {
      "cell_type": "code",
      "source": [
        "# Print all the sets whose sum is zero\n",
        "for r in ResultList:\n",
        "\tprint (r)\n",
        "\n",
        "# Print total sets\n",
        "print (\"\\nTotal Sets: \", len(ResultList), \"\\n\")"
      ],
      "metadata": {
        "colab": {
          "base_uri": "https://localhost:8080/"
        },
        "id": "89QGTP1Q6JUX",
        "outputId": "1a4f7a3d-dd11-4a92-a232-69d318ef8396"
      },
      "execution_count": 4,
      "outputs": [
        {
          "output_type": "stream",
          "name": "stdout",
          "text": [
            "(-4, -3, -2, 7, 2)\n",
            "(-6, 11, 1, -4, -2)\n",
            "(-4, -2, 7, 6, -7)\n",
            "(-6, -4, 9, 6, -5)\n",
            "(-2, -6, 9, -3, 2)\n",
            "(-8, -2, 3, 1, 6)\n",
            "(9, -6, -12, 6, 3)\n",
            "(11, -6, -4, 6, -7)\n",
            "(3, -7, 6, 1, -3)\n",
            "(7, 9, -5, -4, -7)\n",
            "(6, 2, -8, 9, -9)\n",
            "(-5, -6, 3, -3, 11)\n",
            "(11, -2, -6, 2, -5)\n",
            "(1, -9, 2, 11, -5)\n",
            "(-4, 3, -7, 6, 2)\n",
            "(7, 9, -3, -5, -8)\n",
            "(-12, -2, 2, 11, 1)\n",
            "(-4, -5, 9, -6, 6)\n",
            "(-8, 11, 6, -4, -5)\n",
            "(3, -6, 1, 7, -5)\n",
            "(-4, -7, -2, 2, 11)\n",
            "(9, 11, -9, 1, -12)\n",
            "(3, 11, -2, -3, -9)\n",
            "(-5, 7, 9, -4, -7)\n",
            "(7, -4, 6, -2, -7)\n",
            "(-8, 11, 9, -7, -5)\n",
            "(-4, -2, 11, 1, -6)\n",
            "(7, 11, -9, -12, 3)\n",
            "(-2, 9, 3, -4, -6)\n",
            "(2, -3, -12, 6, 7)\n",
            "\n",
            "Total Sets:  30 \n",
            "\n"
          ]
        }
      ]
    }
  ]
}